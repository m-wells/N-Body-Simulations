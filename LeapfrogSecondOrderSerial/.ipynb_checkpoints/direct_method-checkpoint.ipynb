{
 "metadata": {
  "language": "Julia",
  "name": "",
  "signature": "sha256:cb87dbfb6a59a429b3ded4a6db3978ae8ffcf7236e58d39b09ba7ef34a453ec6"
 },
 "nbformat": 3,
 "nbformat_minor": 0,
 "worksheets": [
  {
   "cells": [
    {
     "cell_type": "markdown",
     "metadata": {},
     "source": [
      "#Direct Method#\n",
      "Should first see if I can get a basic two particle system working"
     ]
    },
    {
     "cell_type": "markdown",
     "metadata": {},
     "source": [
      "##state\n",
      "state will be a 2d array containing $[x,y,z,v_x,v_y,v_z,a_x,a_y,a_z]$ for each particle on each row\n",
      "\n",
      "the accelerations will be saved to avoid having to double calculate...see the way the velocity gets updated for clarification"
     ]
    },
    {
     "cell_type": "markdown",
     "metadata": {},
     "source": [
      "##leapfrog update equations\n",
      "time-reversible and sympletic (conserves energy)"
     ]
    },
    {
     "cell_type": "code",
     "collapsed": false,
     "input": [
      "function comp_pos_update(d::Float64,vd::Float64,ad::Float64,dt::Float64)\n",
      "    #returns the next distance parameter d (i.e. x, y, or z)\n",
      "\n",
      "    #leapfrog the position\n",
      "    d = d + vd*dt + 0.5ad*dt^2;\n",
      "    return d\n",
      "end"
     ],
     "language": "python",
     "metadata": {},
     "outputs": [
      {
       "metadata": {},
       "output_type": "pyout",
       "prompt_number": 1,
       "text": [
        "comp_pos_update (generic function with 1 method)"
       ]
      }
     ],
     "prompt_number": 1
    },
    {
     "cell_type": "code",
     "collapsed": false,
     "input": [
      "function comp_vel_update(vd::Float64,ad0::Float64,ad1::Float64,dt::Float64)\n",
      "    #returns the next velocity parameter vd (i.e. vx, vy, or vz)\n",
      "    #a0 is the \"current\" acceleration, a1 is the next acceleration (i.e. the updated acc.)\n",
      "    \n",
      "    #leapfrog the velocity\n",
      "    vd = vd + 0.5(ad0 + ad1)dt\n",
      "    return vd\n",
      "end"
     ],
     "language": "python",
     "metadata": {},
     "outputs": [
      {
       "metadata": {},
       "output_type": "pyout",
       "prompt_number": 2,
       "text": [
        "comp_vel_update (generic function with 1 method)"
       ]
      }
     ],
     "prompt_number": 2
    },
    {
     "cell_type": "code",
     "collapsed": false,
     "input": [
      "compute_r(delta_x::Float64,delta_y::Float64,delta_z::Float64) = sqrt(delta_x^2 + delta_y^2 + delta_z^2)"
     ],
     "language": "python",
     "metadata": {},
     "outputs": [
      {
       "metadata": {},
       "output_type": "pyout",
       "prompt_number": 3,
       "text": [
        "compute_r (generic function with 1 method)"
       ]
      }
     ],
     "prompt_number": 3
    },
    {
     "cell_type": "code",
     "collapsed": false,
     "input": [
      "function comp_accel_on_i_from_j(di::Float64,dj::Float64,r::Float64,massj::Float64)\n",
      "    #computes the component of gravitional acceleration on i from j (not scaled with G)\n",
      "    #d represents the component dimension (i.e. x, y, or z)\n",
      "    ad = massj*(di-dj)/abs(r)^3;\n",
      "    return ad\n",
      "end"
     ],
     "language": "python",
     "metadata": {},
     "outputs": [
      {
       "metadata": {},
       "output_type": "pyout",
       "prompt_number": 4,
       "text": [
        "comp_accel_on_i_from_j (generic function with 1 method)"
       ]
      }
     ],
     "prompt_number": 4
    },
    {
     "cell_type": "code",
     "collapsed": false,
     "input": [
      "function total_accel_on_i(i::Int64,state::Array{Float64,2},mass::Array{Float64,1},G::Float64)\n",
      "    #the acceleration needs to be determined from the current collection of all the particles\n",
      "    \n",
      "    numparticles = size(state)[1]; #the number of rows of state\n",
      "\n",
      "    xi = state[i,1];\n",
      "    yi = state[i,2];\n",
      "    zi = state[i,3];\n",
      "    \n",
      "    #initialize accelerations\n",
      "    ax = 0.;\n",
      "    ay = 0.;\n",
      "    az = 0.;\n",
      "\n",
      "    #need to compute the interaction with every particle\n",
      "    for j = 1:numparticles\n",
      "        #no self-interaction\n",
      "        if j != i\n",
      "            xj = state[j,1];\n",
      "            yj = state[j,2];\n",
      "            zj = state[j,3];\n",
      "            \n",
      "            r = compute_r(xi-xj,yi-yj,zi-zj)\n",
      "            ax += comp_accel_on_i_from_j(xi,xj,r,mass[j]);\n",
      "            ay += comp_accel_on_i_from_j(yi,yj,r,mass[j]);\n",
      "            az += comp_accel_on_i_from_j(zi,zj,r,mass[j]);\n",
      "        end\n",
      "    end\n",
      "    \n",
      "    ax = -G*ax\n",
      "    ay = -G*ay\n",
      "    az = -G*az\n",
      "    \n",
      "    return [ax,ay,az]\n",
      "end"
     ],
     "language": "python",
     "metadata": {},
     "outputs": [
      {
       "metadata": {},
       "output_type": "pyout",
       "prompt_number": 5,
       "text": [
        "total_accel_on_i (generic function with 1 method)"
       ]
      }
     ],
     "prompt_number": 5
    },
    {
     "cell_type": "markdown",
     "metadata": {},
     "source": [
      "##integration method\n",
      "###updating each step\n",
      "using a simple leapfrog technique right now"
     ]
    },
    {
     "cell_type": "code",
     "collapsed": false,
     "input": [
      "function leapfrog_step_for_i(i::Int64,state::Array{Float64,2},mass::Array{Float64,1},dt::Float64,G::Float64)\n",
      "    #take a step updating the positions and the velocities for particle i\n",
      "    \n",
      "    #the current position of particle i\n",
      "    x = state[i,1];\n",
      "    y = state[i,2];\n",
      "    z = state[i,3];\n",
      "    #the current velocity of particle i\n",
      "    vx = state[i,4];\n",
      "    vy = state[i,5];\n",
      "    vz = state[i,6];\n",
      "    #the current acceleration of particle i (storing this avoids double calculation of acceleration)\n",
      "    ax0 = state[i,7];\n",
      "    ay0 = state[i,8];\n",
      "    az0 = state[i,9];\n",
      "    \n",
      "    #debugging\n",
      "    #if i==1\n",
      "    #    println(\"current\")\n",
      "    #    println(\"x=\",x)\n",
      "    #    println(\"vx=\",vx)\n",
      "    #    println(\"ax0=\",ax0)\n",
      "    #end\n",
      "    \n",
      "    #update the position of particle i\n",
      "    x = comp_pos_update(x,vx,ax0,dt);\n",
      "    y = comp_pos_update(y,vy,ay0,dt);\n",
      "    z = comp_pos_update(z,vz,az0,dt);\n",
      "    #update the acceleration of particle i\n",
      "    # (do this after updating the positions but before updating the velocities)\n",
      "    a1 = total_accel_on_i(i,state,mass,G);\n",
      "    ax1 = a1[1];\n",
      "    ay1 = a1[2];\n",
      "    az1 = a1[3];\n",
      "    #update the velocities\n",
      "    vx = comp_vel_update(vx,ax0,ax1,dt);\n",
      "    vy = comp_vel_update(vy,ay0,ay1,dt);\n",
      "    vz = comp_vel_update(vz,az0,az1,dt);\n",
      "    \n",
      "    #if i==1\n",
      "    #    println(\"updates\")\n",
      "    #    println(\"x=\",x)\n",
      "    #    println(\"ax1=\",ax1)\n",
      "    #    println(\"vx=\",vx)\n",
      "    #end\n",
      "    \n",
      "    #should check to see how large the updates are from the currents\n",
      "    #output an error if it is too large of an increase\n",
      "    \n",
      "    #return the next state\n",
      "    return [x,y,z,vx,vy,vz,ax1,ay1,az1];\n",
      "end"
     ],
     "language": "python",
     "metadata": {},
     "outputs": [
      {
       "metadata": {},
       "output_type": "pyout",
       "prompt_number": 6,
       "text": [
        "leapfrog_step_for_i (generic function with 1 method)"
       ]
      }
     ],
     "prompt_number": 6
    },
    {
     "cell_type": "markdown",
     "metadata": {},
     "source": [
      "###need to perform leapfrog over all particles\n",
      "update the state array"
     ]
    },
    {
     "cell_type": "code",
     "collapsed": false,
     "input": [
      "function update_state(state::Array{Float64,2},mass::Array{Float64,1},dt::Float64,G::Float64)\n",
      "    #leapfrog update for all particles\n",
      "    \n",
      "    #save current state so that we don't start updating until the next state has been computed for all particles\n",
      "    current_state = deepcopy(state);\n",
      "    \n",
      "    numparticles = size(state)[1]; #the number of rows of state\n",
      "    #initialize next_state to store values in\n",
      "    next_state = Array(Float64,numparticles,9);\n",
      "    \n",
      "    #loop over all particles\n",
      "    for i=1:numparticles\n",
      "        next_state[i,:] = leapfrog_step_for_i(i,state,mass,dt,G);\n",
      "    end\n",
      "    \n",
      "    return next_state;\n",
      "end"
     ],
     "language": "python",
     "metadata": {},
     "outputs": [
      {
       "metadata": {},
       "output_type": "pyout",
       "prompt_number": 7,
       "text": [
        "update_state (generic function with 1 method)"
       ]
      }
     ],
     "prompt_number": 7
    },
    {
     "cell_type": "markdown",
     "metadata": {},
     "source": [
      "###perform the looping (integration)\n",
      "should keep a running copy of all the positions (possibly the velocites and accelerations) so that a plot can be made\n",
      "\n",
      "will need to compute the first acceleration prior to integeration\n",
      "\n",
      "the initial state should only be [x,y,z,vx,vy,vz] for each particle (each row will be a different particle)"
     ]
    },
    {
     "cell_type": "code",
     "collapsed": false,
     "input": [
      "function integrate_leapfrog(initialState::Array{Float64,2},mass::Array{Float64,1},N::Int64,dt::Float64,G::Float64)\n",
      "    #this performs the integration with a step size of dt and N number of steps\n",
      "    \n",
      "    numparticles = size(initialState)[1]; #the number of rows of state\n",
      "    \n",
      "    #initialize an initial accelerations array (will hcat this to initialState)\n",
      "    initialAccelerations = Array(Float64,numparticles,3);\n",
      "    \n",
      "    #need to compute the initial acceleration for each particle\n",
      "    for i=1:numparticles\n",
      "        initialAccelerations[i,:] = total_accel_on_i(i,initialState,mass,G);\n",
      "    end\n",
      "    \n",
      "    state=hcat(initialState,initialAccelerations);\n",
      "    #pos[i,:,1],pos[i,:,2]\n",
      "    \n",
      "    #initialize x, y, and z arrays to track each particle (row) at each step (column)\n",
      "    x = Array(Float64,numparticles,N);\n",
      "    y = Array(Float64,numparticles,N);\n",
      "    z = Array(Float64,numparticles,N);\n",
      "    \n",
      "    #store the initial positions\n",
      "    x[:,1] = initialState[:,1];\n",
      "    y[:,1] = initialState[:,2];\n",
      "    z[:,1] = initialState[:,3];\n",
      "    \n",
      "    for n=2:N\n",
      "        state = update_state(state,mass,dt,G);\n",
      "        x[:,n] = state[:,1];\n",
      "        y[:,n] = state[:,2];\n",
      "        z[:,n] = state[:,3];\n",
      "    end\n",
      "    \n",
      "    #initialize a 3-dimensional array\n",
      "    positions = Array(Float64,numparticles,N,3);\n",
      "    positions[:,:,1] = x;\n",
      "    positions[:,:,2] = y;\n",
      "    positions[:,:,3] = z;\n",
      "    \n",
      "    return positions\n",
      "end"
     ],
     "language": "python",
     "metadata": {},
     "outputs": [
      {
       "metadata": {},
       "output_type": "pyout",
       "prompt_number": 8,
       "text": [
        "integrate_leapfrog (generic function with 1 method)"
       ]
      }
     ],
     "prompt_number": 8
    },
    {
     "cell_type": "markdown",
     "metadata": {},
     "source": [
      "##Perform a test with 3 particles"
     ]
    },
    {
     "cell_type": "code",
     "collapsed": false,
     "input": [
      "initialState=[300. 300. 3. -.1 0. 0.; -300. -300. -5. -.1 0. 0.; 90. 90. 3. 0. 0. 0.];\n",
      "mass=[1.,10.,100.];"
     ],
     "language": "python",
     "metadata": {},
     "outputs": [],
     "prompt_number": 36
    },
    {
     "cell_type": "code",
     "collapsed": false,
     "input": [
      "nsteps=100000;\n",
      "stepsize=0.5;\n",
      "grav_constant=0.1;\n",
      "\n",
      "pos=integrate_leapfrog(initialState,mass,nsteps,stepsize,grav_constant);"
     ],
     "language": "python",
     "metadata": {},
     "outputs": [],
     "prompt_number": 36
    },
    {
     "cell_type": "code",
     "collapsed": false,
     "input": [
      "using PyPlot\n",
      "\n",
      "numparticles = size(initialState)[1]; #the number of rows of state\n",
      "for i=1:numparticles\n",
      "    x=transpose(pos[i,:,1]);\n",
      "    y=transpose(pos[i,:,2]);\n",
      "    #z=transpose(pos[i,:,3]);\n",
      "    #print(x)\n",
      "    plot(x,y,linewidth=5.0)\n",
      "end\n",
      "xlim(-2000,2000)\n",
      "ylim(-500,500)"
     ],
     "language": "python",
     "metadata": {},
     "outputs": [
      {
       "metadata": {},
       "output_type": "display_data",
       "png": "[encoded data removed]",
       "text": [
        "Figure(PyObject <matplotlib.figure.Figure object at 0x7f14f741c588>)"
       ]
      },
      {
       "metadata": {},
       "output_type": "pyout",
       "prompt_number": 37,
       "text": [
        "(-500,500)"
       ]
      }
     ],
     "prompt_number": 37
    }
   ],
   "metadata": {}
  }
 ]
}