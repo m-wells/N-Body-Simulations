{
 "metadata": {
  "language": "Julia",
  "name": "",
  "signature": "sha256:192f2b96c1d54b74b09c9d3cfc8b907324ba4b957f9edf8d5a053daa0788b31c"
 },
 "nbformat": 3,
 "nbformat_minor": 0,
 "worksheets": [
  {
   "cells": [
    {
     "cell_type": "code",
     "collapsed": false,
     "input": [
      "include(\"../rw_functions.jl\")"
     ],
     "language": "python",
     "metadata": {},
     "outputs": [
      {
       "metadata": {},
       "output_type": "pyout",
       "prompt_number": 1,
       "text": [
        "write_pos_out (generic function with 1 method)"
       ]
      }
     ],
     "prompt_number": 1
    },
    {
     "cell_type": "code",
     "collapsed": false,
     "input": [
      "include(\"../create_random_arrays.jl\")"
     ],
     "language": "python",
     "metadata": {},
     "outputs": [
      {
       "metadata": {},
       "output_type": "pyout",
       "prompt_number": 2,
       "text": [
        "generate_initialState (generic function with 1 method)"
       ]
      }
     ],
     "prompt_number": 2
    },
    {
     "cell_type": "code",
     "collapsed": false,
     "input": [
      "test=generate_masses(10,100,100,42);\n",
      "println(\"min:\",minimum(test))\n",
      "println(\"max:\",maximum(test))"
     ],
     "language": "python",
     "metadata": {},
     "outputs": [
      {
       "output_type": "stream",
       "stream": "stdout",
       "text": [
        "masses successfully generated within limits\n"
       ]
      },
      {
       "output_type": "stream",
       "stream": "stdout",
       "text": [
        "min:10.432801125166138\n",
        "max:99.92685342727005\n"
       ]
      }
     ],
     "prompt_number": 3
    },
    {
     "cell_type": "code",
     "collapsed": false,
     "input": [
      "test=generate_positions(-10000,10000,100,42);\n",
      "println(\"min:\",minimum(test))\n",
      "println(\"max:\",maximum(test))"
     ],
     "language": "python",
     "metadata": {},
     "outputs": [
      {
       "output_type": "stream",
       "stream": "stdout",
       "text": [
        "positions successfully generated within limits\n",
        "min:-9903.821972185302\n",
        "max:9983.745206060012\n"
       ]
      }
     ],
     "prompt_number": 4
    },
    {
     "cell_type": "code",
     "collapsed": false,
     "input": [
      "test=generate_velocities(-100,100,100,42);\n",
      "println(\"min:\",minimum(test))\n",
      "println(\"max:\",maximum(test))"
     ],
     "language": "python",
     "metadata": {},
     "outputs": [
      {
       "output_type": "stream",
       "stream": "stdout",
       "text": [
        "velocities successfully generated within limits\n",
        "min:-99.03821972185303\n",
        "max:99.8374520606001\n"
       ]
      }
     ],
     "prompt_number": 5
    },
    {
     "cell_type": "code",
     "collapsed": false,
     "input": [
      "initialState=generate_initialState(1000,10000,-200000,200000,-1,1,2,3);"
     ],
     "language": "python",
     "metadata": {},
     "outputs": [
      {
       "output_type": "stream",
       "stream": "stdout",
       "text": [
        "masses successfully generated within limits\n"
       ]
      },
      {
       "output_type": "stream",
       "stream": "stdout",
       "text": [
        "positions successfully generated within limits\n",
        "positions successfully generated within limits\n",
        "positions successfully generated within limits\n",
        "velocities successfully generated within limits\n",
        "velocities successfully generated within limits\n",
        "velocities successfully generated within limits\n"
       ]
      }
     ],
     "prompt_number": 7
    },
    {
     "cell_type": "code",
     "collapsed": false,
     "input": [
      "write_initialState(initialState,\"test2particle\")"
     ],
     "language": "python",
     "metadata": {},
     "outputs": [],
     "prompt_number": 8
    },
    {
     "cell_type": "code",
     "collapsed": false,
     "input": [],
     "language": "python",
     "metadata": {},
     "outputs": []
    }
   ],
   "metadata": {}
  }
 ]
}