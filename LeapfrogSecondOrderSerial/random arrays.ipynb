{
 "metadata": {
  "language": "Julia",
  "name": "",
  "signature": "sha256:4511a75bb9a7d8864699b1680b06ceea1b803d6f43bac50a6793c95b3b687141"
 },
 "nbformat": 3,
 "nbformat_minor": 0,
 "worksheets": [
  {
   "cells": [
    {
     "cell_type": "code",
     "collapsed": false,
     "input": [
      "include(\"../rw_functions.jl\")"
     ],
     "language": "python",
     "metadata": {},
     "outputs": [
      {
       "metadata": {},
       "output_type": "pyout",
       "prompt_number": 82,
       "text": [
        "write_initialState (generic function with 1 method)"
       ]
      }
     ],
     "prompt_number": 82
    },
    {
     "cell_type": "code",
     "collapsed": false,
     "input": [
      "include(\"../create_random_arrays.jl\")"
     ],
     "language": "python",
     "metadata": {},
     "outputs": [
      {
       "metadata": {},
       "output_type": "pyout",
       "prompt_number": 68,
       "text": [
        "generate_velocities (generic function with 1 method)"
       ]
      }
     ],
     "prompt_number": 68
    },
    {
     "cell_type": "code",
     "collapsed": false,
     "input": [
      "test=generate_masses(10,100,100,42);\n",
      "println(\"min:\",minimum(test))\n",
      "println(\"max:\",maximum(test))"
     ],
     "language": "python",
     "metadata": {},
     "outputs": [
      {
       "output_type": "stream",
       "stream": "stdout",
       "text": [
        "masses successfully generated within limits\n"
       ]
      },
      {
       "output_type": "stream",
       "stream": "stdout",
       "text": [
        "min:10.432801125166138\n",
        "max:99.92685342727005\n"
       ]
      }
     ],
     "prompt_number": 72
    },
    {
     "cell_type": "code",
     "collapsed": false,
     "input": [
      "test=generate_positions(-10000,10000,100,42);\n",
      "println(\"min:\",minimum(test))\n",
      "println(\"max:\",maximum(test))"
     ],
     "language": "python",
     "metadata": {},
     "outputs": [
      {
       "output_type": "stream",
       "stream": "stdout",
       "text": [
        "positions successfully generated within limits\n"
       ]
      },
      {
       "output_type": "stream",
       "stream": "stdout",
       "text": [
        "min:-9903.821972185302\n",
        "max:9983.745206060012\n"
       ]
      }
     ],
     "prompt_number": 84
    },
    {
     "cell_type": "code",
     "collapsed": false,
     "input": [
      "test=generate_velocities(-100,100,100,42);\n",
      "println(\"min:\",minimum(test))\n",
      "println(\"max:\",maximum(test))"
     ],
     "language": "python",
     "metadata": {},
     "outputs": [
      {
       "output_type": "stream",
       "stream": "stdout",
       "text": [
        "velocities successfully generated within limits\n"
       ]
      },
      {
       "output_type": "stream",
       "stream": "stdout",
       "text": [
        "min:-99.03821972185303\n",
        "max:99.8374520606001\n"
       ]
      }
     ],
     "prompt_number": 85
    },
    {
     "cell_type": "code",
     "collapsed": false,
     "input": [
      "function generate_initialState(minmass,maxmass,minpos,maxpos,minvel,maxvel,length::Int64,seed::Int64)\n",
      "    mass = generate_masses(minmass,maxmass,length,seed)\n",
      "    x = generate_positions(minpos,maxpos,length,seed+1)\n",
      "    y = generate_positions(minpos,maxpos,length,seed+2)\n",
      "    z = generate_positions(minpos,maxpos,length,seed+3)\n",
      "    vx = generate_velocities(minvel,maxvel,length,seed+4)\n",
      "    vy = generate_velocities(minvel,maxvel,length,seed+5)\n",
      "    vz = generate_velocities(minvel,maxvel,length,seed+6)\n",
      "    \n",
      "    initialState = hcat(mass,x,y,z,vx,vy,vz)\n",
      "end"
     ],
     "language": "python",
     "metadata": {},
     "outputs": [
      {
       "metadata": {},
       "output_type": "pyout",
       "prompt_number": 73,
       "text": [
        "generate_initialState (generic function with 1 method)"
       ]
      }
     ],
     "prompt_number": 73
    },
    {
     "cell_type": "code",
     "collapsed": false,
     "input": [
      "initialState=generate_initialState(100,1000,-2000,2000,10,11,2,2);"
     ],
     "language": "python",
     "metadata": {},
     "outputs": [
      {
       "output_type": "stream",
       "stream": "stdout",
       "text": [
        "masses successfully generated within limits\n"
       ]
      },
      {
       "output_type": "stream",
       "stream": "stdout",
       "text": [
        "positions successfully generated within limits\n",
        "positions successfully generated within limits\n",
        "positions successfully generated within limits\n",
        "velocities successfully generated within limits\n",
        "velocities successfully generated within limits\n",
        "velocities successfully generated within limits\n"
       ]
      }
     ],
     "prompt_number": 105
    },
    {
     "cell_type": "code",
     "collapsed": false,
     "input": [
      "write_initialState(initialState,\"test20particle\")"
     ],
     "language": "python",
     "metadata": {},
     "outputs": [],
     "prompt_number": 106
    },
    {
     "cell_type": "code",
     "collapsed": false,
     "input": [],
     "language": "python",
     "metadata": {},
     "outputs": []
    }
   ],
   "metadata": {}
  }
 ]
}