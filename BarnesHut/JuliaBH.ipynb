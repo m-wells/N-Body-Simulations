{
 "metadata": {
  "language": "Julia",
  "name": ""
 },
 "nbformat": 3,
 "nbformat_minor": 0,
 "worksheets": [
  {
   "cells": [
    {
     "cell_type": "code",
     "collapsed": false,
     "input": [
      "type Particle\n",
      "    x::Float64\n",
      "    y::Float64\n",
      "    z::Float64\n",
      "    vx::Float64\n",
      "    vy::Float64\n",
      "    vz::Float64\n",
      "    m ::Float64\n",
      "end\n",
      "\n",
      "type Cell\n",
      "    xmin::Float64\n",
      "    xmax::Float64\n",
      "    ymin::Float64\n",
      "    ymax::Float64\n",
      "    zmin::Float64\n",
      "    zmax::Float64\n",
      "    n=0\n",
      "    xcen = 0\n",
      "    ycen = 0\n",
      "    xcen = 0 \n",
      "    daughters =[]\n",
      "end\n",
      "\n",
      "\n",
      "    \n",
      "    "
     ],
     "language": "python",
     "metadata": {},
     "outputs": [],
     "prompt_number": 8
    },
    {
     "cell_type": "code",
     "collapsed": false,
     "input": [
      "particle1 = Particle(0.0,0.0,0.0,1.0,1.0,1.0,1.0)"
     ],
     "language": "python",
     "metadata": {},
     "outputs": [
      {
       "metadata": {},
       "output_type": "pyout",
       "prompt_number": 10,
       "text": [
        "Particle(0.0,0.0,0.0,1.0,1.0,1.0,1.0)"
       ]
      }
     ],
     "prompt_number": 10
    },
    {
     "cell_type": "code",
     "collapsed": false,
     "input": [
      "particle1.x"
     ],
     "language": "python",
     "metadata": {},
     "outputs": [
      {
       "metadata": {},
       "output_type": "pyout",
       "prompt_number": 11,
       "text": [
        "0.0"
       ]
      }
     ],
     "prompt_number": 11
    },
    {
     "cell_type": "code",
     "collapsed": false,
     "input": [],
     "language": "python",
     "metadata": {},
     "outputs": []
    }
   ],
   "metadata": {}
  }
 ]
}