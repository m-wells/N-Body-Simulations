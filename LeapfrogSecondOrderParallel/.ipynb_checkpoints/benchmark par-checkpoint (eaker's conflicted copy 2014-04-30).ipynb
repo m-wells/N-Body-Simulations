{
 "metadata": {
  "language": "Julia",
  "name": "",
  "signature": "sha256:e5018fc2048a6ff826f718242f0ee250092ddc84266ebba8476842941df43b29"
 },
 "nbformat": 3,
 "nbformat_minor": 0,
 "worksheets": [
  {
   "cells": [
    {
     "cell_type": "code",
     "collapsed": false,
     "input": [
      "#sets the desired number of processes\n",
      "include(\"../set_procs.jl\")\n",
      "set_procs(5)"
     ],
     "language": "python",
     "metadata": {},
     "outputs": [
      {
       "output_type": "stream",
       "stream": "stdout",
       "text": [
        "Using 5"
       ]
      },
      {
       "output_type": "stream",
       "stream": "stdout",
       "text": [
        " processes\n",
        "Using 4 workers\n"
       ]
      }
     ],
     "prompt_number": 1
    },
    {
     "cell_type": "code",
     "collapsed": false,
     "input": [
      "#contains the leapfrog parallel rountine\n",
      "@everywhere include(\"leapfrog_second_order_parallel.jl\")\n",
      "#for reading in ascii files\n",
      "@everywhere include(\"../rw_functions.jl\");"
     ],
     "language": "python",
     "metadata": {},
     "outputs": [],
     "prompt_number": 1
    },
    {
     "cell_type": "markdown",
     "metadata": {},
     "source": [
      "###read in a ascii file"
     ]
    },
    {
     "cell_type": "code",
     "collapsed": false,
     "input": [
      "setup=read_setup_from_file(\"test3particles\");"
     ],
     "language": "python",
     "metadata": {},
     "outputs": [],
     "prompt_number": 1
    },
    {
     "cell_type": "code",
     "collapsed": false,
     "input": [
      "mass=get_mass(setup);"
     ],
     "language": "python",
     "metadata": {},
     "outputs": [],
     "prompt_number": 1
    },
    {
     "cell_type": "code",
     "collapsed": false,
     "input": [
      "initialState=get_initialState(setup);"
     ],
     "language": "python",
     "metadata": {},
     "outputs": [],
     "prompt_number": 1
    },
    {
     "cell_type": "code",
     "collapsed": false,
     "input": [
      "nsteps=100000;\n",
      "stepsize=0.5;\n",
      "grav_constant=0.1;\n",
      "\n",
      "pos=integrate_leapfrog(initialState,mass,nsteps,stepsize,grav_constant);"
     ],
     "language": "python",
     "metadata": {},
     "outputs": [
      {
       "output_type": "stream",
       "stream": "stdout",
       "text": [
        "{"
       ]
      },
      {
       "output_type": "stream",
       "stream": "stdout",
       "text": [
        "[299.9499898559001,299.99998985590014,2.999999998363397,-0.10004057639934487,-4.057639934485943e-5,-6.546412136638511e-9,-8.115279868971887e-5,-8.115279868971887e-5,-1.3092824273277022e-8]}\n"
       ]
      },
      {
       "ename": "LoadError",
       "evalue": "DimensionMismatch(\"tried to assign 1-element array to 1x9 destination\")\nwhile loading In[1], in expression starting on line 5",
       "output_type": "pyerr",
       "traceback": [
        "DimensionMismatch(\"tried to assign 1-element array to 1x9 destination\")\nwhile loading In[1], in expression starting on line 5",
        " in throw_setindex_mismatch at operators.jl:214",
        " in setindex_shape_check at operators.jl:265",
        " in setindex! at multidimensional.jl:72",
        " in update_state at /home/mark/Dropbox/School/2014_1Spring/CSE_557/PROJECT/N-Body-Simulations/LeapfrogSecondOrderParallel/leapfrog_second_order_parallel.jl:146",
        " in integrate_leapfrog at /home/mark/Dropbox/School/2014_1Spring/CSE_557/PROJECT/N-Body-Simulations/LeapfrogSecondOrderParallel/leapfrog_second_order_parallel.jl:185"
       ]
      }
     ],
     "prompt_number": 1
    },
    {
     "cell_type": "code",
     "collapsed": false,
     "input": [
      "using PyPlot\n",
      "\n",
      "numparticles = size(initialState)[1]; #the number of rows of state\n",
      "for i=1:numparticles\n",
      "    x=transpose(pos[i,:,1]);\n",
      "    y=transpose(pos[i,:,2]);\n",
      "    #z=transpose(pos[i,:,3]);\n",
      "    #print(x)\n",
      "    plot(x,y,linewidth=5.0)\n",
      "end\n",
      "xlim(-2000,2000)\n",
      "ylim(-500,500)"
     ],
     "language": "python",
     "metadata": {},
     "outputs": [
      {
       "output_type": "stream",
       "stream": "stderr",
       "text": [
        "INFO: Loading help data..."
       ]
      },
      {
       "output_type": "stream",
       "stream": "stderr",
       "text": [
        "\n"
       ]
      },
      {
       "output_type": "stream",
       "stream": "stderr",
       "text": [
        "INFO: "
       ]
      },
      {
       "output_type": "stream",
       "stream": "stderr",
       "text": [
        "Loading help data..."
       ]
      },
      {
       "output_type": "stream",
       "stream": "stderr",
       "text": [
        "\n"
       ]
      },
      {
       "output_type": "stream",
       "stream": "stderr",
       "text": [
        "INFO: "
       ]
      },
      {
       "output_type": "stream",
       "stream": "stderr",
       "text": [
        "INFO: "
       ]
      },
      {
       "output_type": "stream",
       "stream": "stderr",
       "text": [
        "Loading help data...\n",
        "Loading help data...\n"
       ]
      },
      {
       "output_type": "stream",
       "stream": "stderr",
       "text": [
        "INFO: "
       ]
      },
      {
       "output_type": "stream",
       "stream": "stderr",
       "text": [
        "Loading help data..."
       ]
      },
      {
       "output_type": "stream",
       "stream": "stderr",
       "text": [
        "\n"
       ]
      },
      {
       "ename": "LoadError",
       "evalue": "pos not defined\nwhile loading In[2], in expression starting on line 4",
       "output_type": "pyerr",
       "traceback": [
        "pos not defined\nwhile loading In[2], in expression starting on line 4",
        " in anonymous at no file:5"
       ]
      }
     ],
     "prompt_number": 2
    },
    {
     "cell_type": "code",
     "collapsed": false,
     "input": [],
     "language": "python",
     "metadata": {},
     "outputs": [],
     "prompt_number": 3
    }
   ],
   "metadata": {}
  }
 ]
}